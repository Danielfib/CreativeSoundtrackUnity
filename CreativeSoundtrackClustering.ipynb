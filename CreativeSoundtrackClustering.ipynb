{
 "cells": [
  {
   "cell_type": "code",
   "execution_count": 1,
   "metadata": {},
   "outputs": [],
   "source": [
    "import spotipy\n",
    "import numpy as np\n",
    "import pandas as pd\n",
    "from matplotlib import pyplot as plt\n",
    "from spotipy.oauth2 import SpotifyOAuth\n",
    "\n",
    "sp = spotipy.Spotify(auth_manager=SpotifyOAuth(client_id=\"4d56e8b1f0754a0ba00cd68945bd75a0\",\n",
    "                                                           client_secret=\"1c9978af70c64defb32ada84e7b1289e\",\n",
    "                                                            redirect_uri=\"http://localhost:8000\",\n",
    "                                                            scope=\"user-library-read\"))\n",
    "\n"
   ]
  },
  {
   "cell_type": "code",
   "execution_count": 2,
   "metadata": {},
   "outputs": [],
   "source": [
    "offset = 0\n",
    "items = []\n",
    "ids = []\n",
    "names = []\n",
    "songs = []  \n",
    "\n",
    "while True:\n",
    "    content = sp.current_user_saved_tracks(limit=50, offset=offset)\n",
    "    songs += content['items']\n",
    "    if content['next'] is not None:\n",
    "        offset += 100\n",
    "    else:\n",
    "        break"
   ]
  },
  {
   "cell_type": "code",
   "execution_count": 3,
   "metadata": {},
   "outputs": [],
   "source": [
    "index = 0\n",
    "audio_features = []\n",
    "for i in songs:\n",
    "    ids.append(i['track']['id'])\n",
    "while index < len(ids):\n",
    "    audio_features += sp.audio_features(ids[index:index + 50])\n",
    "    index += 50\n",
    "    \n",
    "features_list = []\n",
    "for features in audio_features:\n",
    "    features_list.append([features['energy'], features['liveness'],\n",
    "                          features['speechiness'], features['danceability'], \n",
    "                          features['valence'], features['uri']])\n",
    "\n",
    "df = pd.DataFrame(features_list, columns=['energy', 'liveness',\n",
    "                                           'speechiness', 'danceability',\n",
    "                                              'valence', 'uri'])\n",
    "\n",
    "df.to_csv('data/audio_features.csv', index=False)"
   ]
  },
  {
   "cell_type": "code",
   "execution_count": 4,
   "metadata": {},
   "outputs": [
    {
     "name": "stdout",
     "output_type": "stream",
     "text": [
      "0\n",
      "['nova mpb', 'pop lgbtq+ brasileira']\n",
      "1\n",
      "[]\n",
      "2\n",
      "['pop rap']\n",
      "3\n",
      "['tropical house', 'uk contemporary r&b']\n",
      "4\n",
      "['mpb', 'nova mpb', 'pop nacional']\n",
      "5\n",
      "['k-pop girl group']\n",
      "6\n",
      "['dance pop', 'pop', 'pop dance', 'pop rap']\n",
      "7\n",
      "['boy band', 'dance pop', 'pop', 'pop dance', 'pop rock', 'post-teen pop']\n",
      "8\n",
      "['alternative metal', 'nu metal', 'post-grunge', 'rap metal']\n",
      "9\n",
      "['boy band', 'dance pop', 'pop', 'pop dance', 'pop rock', 'post-teen pop']\n",
      "10\n",
      "[]\n",
      "11\n",
      "['pop', 'pop rock']\n",
      "12\n",
      "['soft rock', 'sunshine pop']\n",
      "13\n",
      "['funk carioca', 'funk pop', 'pagode baiano', 'pop nacional']\n",
      "14\n",
      "['j-dance']\n",
      "15\n",
      "['social media pop']\n",
      "16\n",
      "['indie poptimism', 'modern alternative rock', 'modern rock', 'pop']\n",
      "17\n",
      "['dance pop', 'latin', 'latin pop', 'latin viral pop', 'pop', 'post-teen pop', 'rap latina', 'reggaeton', 'trap latino']\n",
      "18\n",
      "[]\n",
      "19\n",
      "['metropopolis', 'modern rock', 'pop', 'pop rock']\n",
      "20\n",
      "['dance pop', 'edm', 'electro house', 'electronic trap', 'pop', 'pop dance', 'pop rap']\n",
      "21\n",
      "['batidao romantico']\n",
      "22\n",
      "['otacore']\n",
      "23\n",
      "['alternative metal', 'alternative rock', 'rock']\n",
      "24\n",
      "['folk-pop', 'indie pop', 'metropopolis', 'modern alternative rock', 'modern rock', 'pop rock', 'stomp and holler']\n",
      "25\n",
      "['emo', 'modern power pop', 'modern rock', 'pop punk', 'pop rock', 'rock']\n",
      "26\n",
      "['permanent wave', 'pop']\n",
      "27\n",
      "['brazilian rock', 'folk brasileiro', 'mpb', 'nova mpb']\n",
      "28\n",
      "['funk carioca', 'nova mpb', 'nova musica pernambucana']\n",
      "29\n",
      "['future funk']\n",
      "30\n",
      "['brazilian hip hop', 'funk carioca', 'pop rap brasileiro']\n",
      "31\n",
      "['circuit', 'guaracha', 'perreo']\n",
      "32\n",
      "['video game music']\n",
      "33\n",
      "['rap']\n",
      "34\n",
      "['rap']\n",
      "35\n",
      "['rap']\n",
      "36\n",
      "['rap']\n",
      "37\n",
      "['rap']\n",
      "38\n",
      "['antiviral pop', 'otacore', 'social media pop']\n",
      "39\n",
      "['antiviral pop', 'otacore', 'social media pop']\n",
      "40\n",
      "['mexican pop']\n",
      "41\n",
      "['brazilian edm']\n",
      "42\n",
      "['alternative metal', 'christian rock', 'gymcore', 'nu metal', 'post-grunge', 'post-screamo', 'rap rock']\n",
      "43\n",
      "['alternative metal', 'nu metal', 'rap metal']\n",
      "44\n",
      "['brazilian hip hop', 'pop rap brasileiro', 'r&b brasileiro']\n",
      "45\n",
      "['funk carioca', 'nova mpb', 'nova musica pernambucana']\n",
      "46\n",
      "['baroque pop', 'metropopolis', 'modern rock', 'pop', 'pop rock']\n",
      "47\n",
      "['funk 150 bpm']\n",
      "48\n",
      "['east coast reggae', 'reggae']\n",
      "49\n",
      "['broadway', 'show tunes', 'west end']\n",
      "50\n",
      "['funk carioca', 'nova mpb', 'nova musica pernambucana']\n",
      "51\n",
      "['gaming edm', 'nordic house']\n",
      "52\n",
      "['alternative metal', 'canadian pop punk', 'canadian punk', 'nu metal', 'pop punk', 'punk']\n",
      "53\n",
      "['big room', 'edm', 'electro house', 'indie poptimism', 'pop dance', 'pop edm', 'tropical house']\n",
      "54\n",
      "['country rap', 'lgbtq+ hip hop', 'pop rap', 'queer country']\n",
      "55\n",
      "[]\n",
      "56\n",
      "['dance pop', 'pop']\n",
      "57\n",
      "['boy band', 'dance pop', 'pop', 'pop dance', 'pop rock', 'post-teen pop']\n",
      "58\n",
      "['brostep', 'edm', 'pop', 'pop dance', 'progressive electro house']\n",
      "59\n",
      "['alternative metal', 'alternative rock', 'modern rock', 'permanent wave', 'post-grunge', 'rock']\n",
      "60\n",
      "['garage rock', 'modern rock', 'permanent wave', 'rock', 'sheffield indie']\n",
      "61\n",
      "['atl hip hop']\n",
      "62\n",
      "['pop']\n",
      "63\n",
      "[]\n",
      "64\n",
      "['channel pop', 'indie cafe pop', 'pop', 'post-teen pop', 'viral pop']\n",
      "65\n",
      "['garage rock', 'modern rock', 'permanent wave', 'rock', 'sheffield indie']\n",
      "66\n",
      "['album rock', 'art rock', 'classic rock', 'progressive rock', 'psychedelic rock', 'rock', 'symphonic rock']\n",
      "67\n",
      "['album rock', 'art rock', 'classic rock', 'progressive rock', 'psychedelic rock', 'rock', 'symphonic rock']\n",
      "68\n",
      "['album rock', 'art rock', 'classic rock', 'progressive rock', 'psychedelic rock', 'rock', 'symphonic rock']\n",
      "69\n",
      "['canadian pop', 'dance pop', 'pop', 'post-teen pop', 'viral pop']\n",
      "70\n",
      "['dance pop', 'edm', 'electro house', 'electropop', 'pop', 'pop dance', 'pop edm', 'pop rap', 'post-teen pop', 'tropical house']\n",
      "71\n",
      "['pop', 'pop rap']\n",
      "72\n",
      "['boy band', 'dance pop', 'pop', 'post-teen pop']\n",
      "73\n",
      "['pop punk', 'punk', 'socal pop punk']\n",
      "74\n",
      "['boy band', 'dance pop', 'pop', 'post-teen pop']\n",
      "75\n",
      "['francoton', 'french pop']\n",
      "76\n",
      "['pop', 'uk pop']\n",
      "77\n",
      "['detroit hip hop', 'hip hop', 'rap']\n",
      "78\n",
      "['indie poptimism', 'modern alternative rock', 'modern rock', 'rebel blues']\n",
      "79\n",
      "['alternative metal', 'groove metal', 'nu metal']\n",
      "80\n",
      "['icelandic indie', 'icelandic rock', 'modern alternative rock', 'modern rock']\n",
      "81\n",
      "['channel pop', 'indie cafe pop', 'neo mellow', 'viral pop']\n",
      "82\n",
      "['la indie', 'modern alternative rock', 'modern rock', 'pop rock', 'rock', 'stomp pop']\n",
      "83\n",
      "[]\n",
      "84\n",
      "['dance pop', 'electropop', 'pop dance', 'post-teen pop', 'viral pop']\n",
      "85\n",
      "['modern rock', 'pop', 'rock']\n",
      "86\n",
      "['baroque pop', 'emo', 'modern rock']\n",
      "87\n",
      "['alternative metal', 'funk metal', 'nu metal', 'rap metal', 'rap rock']\n",
      "88\n",
      "[]\n",
      "89\n",
      "['modern alternative rock', 'modern rock']\n",
      "90\n",
      "['pop argentino']\n",
      "91\n",
      "['alternative metal', 'nu metal', 'post-grunge']\n",
      "92\n",
      "['detroit hip hop', 'gangster rap', 'hip hop', 'pop rap', 'rap']\n",
      "93\n",
      "['alternative metal', 'christian rock', 'gymcore', 'nu metal', 'post-grunge', 'post-screamo', 'rap rock']\n",
      "94\n",
      "['indie pop', 'indietronica', 'modern alternative rock', 'modern rock', 'rock']\n",
      "95\n",
      "['alternative metal']\n",
      "96\n",
      "['dance pop', 'pop']\n",
      "97\n",
      "['antiviral pop']\n",
      "98\n",
      "['alternative metal', 'canadian ccm', 'canadian metal', 'canadian rock', 'christian alternative rock', 'christian rock', 'nu metal', 'rap metal']\n",
      "99\n",
      "['alternative metal', 'nu metal', 'post-grunge', 'rap metal']\n",
      "100\n",
      "['dance pop', 'indietronica', 'metropopolis', 'pop', 'pop dance', 'post-teen pop', 'uk pop']\n",
      "101\n",
      "['baroque pop', 'pop', 'uk alternative pop']\n",
      "102\n",
      "['dance pop', 'girl group', 'pop', 'pop dance', 'post-teen pop', 'talent show', 'uk pop']\n",
      "103\n",
      "['alternative metal', 'canadian ccm', 'canadian metal', 'canadian rock', 'christian alternative rock', 'christian rock', 'nu metal', 'rap metal']\n",
      "104\n",
      "['alternative metal', 'canadian ccm', 'canadian metal', 'canadian rock', 'christian alternative rock', 'christian rock', 'nu metal', 'rap metal']\n",
      "105\n",
      "['alternative metal', 'canadian ccm', 'canadian metal', 'canadian rock', 'christian alternative rock', 'christian rock', 'nu metal', 'rap metal']\n",
      "106\n",
      "['alternative metal', 'canadian ccm', 'canadian metal', 'canadian rock', 'christian alternative rock', 'christian rock', 'nu metal', 'rap metal']\n",
      "107\n",
      "['contemporary country', 'country', 'country road', 'modern country rock', 'redneck', 'texas country']\n",
      "108\n",
      "['channel pop', 'neo mellow', 'pop', 'viral pop']\n",
      "109\n",
      "['modern rock', 'pop', 'rock']\n",
      "110\n",
      "['contemporary country', 'country', 'country road', 'modern country rock', 'redneck', 'texas country']\n",
      "111\n",
      "['boy band', 'dance pop', 'pop', 'post-teen pop']\n",
      "112\n",
      "['dance pop', 'dancehall', 'pop', 'pop dance', 'pop rap']\n",
      "113\n",
      "['chicago house']\n",
      "114\n",
      "['candy pop', 'emo', 'pixie', 'pop emo', 'pop punk']\n",
      "115\n",
      "['dance pop', 'pop', 'pop dance', 'post-teen pop']\n",
      "116\n",
      "['dance pop', 'edm', 'pop', 'pop dance', 'pop rap']\n",
      "117\n",
      "['emo rap', 'miami hip hop']\n",
      "118\n",
      "['dakke dak', 'danish pop']\n",
      "119\n",
      "['atl hip hop', 'dance pop', 'pop', 'r&b', 'south carolina hip hop', 'urban contemporary']\n",
      "120\n",
      "['dance pop', 'pop', 'pop dance', 'post-teen pop']\n",
      "121\n",
      "['dance pop', 'pop', 'pop dance', 'uk pop']\n",
      "122\n",
      "['dance pop', 'pop', 'pop dance', 'post-teen pop']\n",
      "123\n",
      "['arkansas country', 'outlaw country']\n",
      "124\n",
      "['alternative metal', 'comic', 'funk metal', 'funk rock', 'nu metal', 'punk', 'rap rock']\n",
      "125\n",
      "['brazilian edm', 'nova mpb']\n",
      "126\n",
      "[]\n",
      "127\n",
      "['dance pop', 'edm', 'pop', 'pop dance', 'post-teen pop', 'tropical house', 'uk dance', 'uk funky']\n",
      "128\n",
      "['dance pop', 'edm', 'pop', 'pop dance', 'tropical house']\n",
      "129\n",
      "['indie poptimism', 'modern alternative rock']\n",
      "130\n",
      "['dance pop', 'pop']\n",
      "131\n",
      "['chicago rap', 'conscious hip hop', 'hip hop', 'political hip hop', 'pop rap', 'rap', 'southern hip hop']\n",
      "132\n",
      "['boy band', 'pop', 'post-teen pop', 'talent show']\n",
      "133\n",
      "['modern alternative rock', 'modern rock', 'pop', 'pop rock', 'rock', 'stomp pop']\n",
      "134\n",
      "['otacore']\n",
      "135\n",
      "['brazilian edm', 'nova mpb']\n",
      "136\n",
      "[]\n",
      "137\n",
      "['rebel blues']\n",
      "138\n",
      "['epicore', 'modern alternative rock']\n",
      "139\n",
      "['video game music']\n",
      "140\n",
      "['k-pop girl group']\n",
      "141\n",
      "['funk carioca', 'pop nacional']\n",
      "142\n",
      "['australian dance', 'australian pop', 'dance pop', 'pop', 'pop dance']\n",
      "143\n",
      "['pop', 'pop rock']\n",
      "144\n",
      "['modern alternative pop']\n",
      "145\n",
      "['alternative metal', 'canadian metal', 'canadian rock', 'nu metal', 'post-grunge', 'wrestling']\n",
      "146\n",
      "['big room', 'brostep', 'dance pop', 'dutch edm', 'edm', 'electro house', 'house', 'pop', 'pop dance', 'trance', 'tropical house']\n",
      "147\n",
      "['video game music']\n",
      "148\n"
     ]
    },
    {
     "name": "stdout",
     "output_type": "stream",
     "text": [
      "[]\n",
      "149\n",
      "['modern alternative rock', 'rebel blues']\n",
      "150\n",
      "['noise']\n",
      "151\n",
      "['pop emo']\n",
      "152\n",
      "['epicore']\n",
      "153\n",
      "['gymcore', 'modern alternative rock', 'post-screamo']\n",
      "154\n",
      "['christian alternative rock', 'christian rock']\n",
      "155\n",
      "['alternative metal', 'future rock']\n",
      "156\n",
      "['christian rock', 'gymcore', 'hard alternative', 'post-screamo']\n",
      "157\n",
      "['christian alternative rock', 'christian rock', 'gothic alternative', 'pixie', 'pop emo', 'slayer']\n",
      "158\n",
      "['gymcore', 'heavy alternative', 'post-screamo']\n",
      "159\n",
      "['otacore', 'pony']\n",
      "160\n",
      "['gymcore', 'modern alternative rock']\n",
      "161\n",
      "[]\n",
      "162\n",
      "['anthem worship']\n",
      "163\n",
      "['dance pop', 'pop', 'pop dance', 'post-teen pop']\n",
      "164\n",
      "['big room', 'dance pop', 'edm', 'electro house', 'pop', 'pop dance', 'progressive electro house', 'tropical house']\n",
      "165\n",
      "['edm', 'pop', 'pop dance', 'tropical house']\n",
      "166\n",
      "['dance pop', 'pop', 'pop dance', 'uk pop']\n",
      "167\n",
      "['dance pop', 'pop', 'pop dance', 'pop rock', 'post-teen pop']\n",
      "168\n",
      "['rebel blues']\n",
      "169\n",
      "['modern alternative rock']\n",
      "170\n",
      "['otacore', 'viral pop']\n",
      "171\n",
      "['indiecoustica']\n",
      "172\n",
      "['rebel blues']\n",
      "173\n",
      "['indie poptimism', 'modern alternative rock']\n",
      "174\n",
      "['modern alternative pop']\n",
      "175\n",
      "[]\n",
      "176\n",
      "['rebel blues']\n",
      "177\n",
      "['modern alternative rock']\n",
      "178\n",
      "['epicore']\n",
      "179\n",
      "['hard alternative']\n",
      "180\n",
      "['epicore']\n",
      "181\n",
      "['christian alternative rock', 'christian rock', 'gymcore', 'post-screamo']\n",
      "182\n",
      "['epicore', 'modern alternative rock']\n",
      "183\n",
      "['anthem worship']\n",
      "184\n",
      "['indiecoustica']\n",
      "185\n",
      "['acoustic pop', 'deep acoustic pop']\n",
      "186\n",
      "['otacore']\n",
      "187\n",
      "[]\n",
      "188\n",
      "['anthem worship']\n",
      "189\n",
      "['alternative metal', 'future rock']\n",
      "190\n",
      "['pixie']\n",
      "191\n",
      "['indie poptimism', 'modern rock', 'rebel blues']\n",
      "192\n",
      "['modern alternative rock', 'rebel blues']\n",
      "193\n",
      "['epicore', 'modern alternative rock']\n",
      "194\n",
      "['modern alternative pop']\n",
      "195\n",
      "['otacore', 'viral pop']\n",
      "196\n",
      "['gymcore', 'heavy alternative', 'post-screamo']\n",
      "197\n",
      "['indie poptimism', 'modern rock', 'rebel blues']\n",
      "198\n",
      "['gymcore', 'modern alternative rock', 'post-screamo']\n",
      "199\n",
      "['christian alternative rock', 'christian rock', 'gothic alternative', 'pixie', 'pop emo', 'slayer']\n"
     ]
    }
   ],
   "source": [
    "for index, row in df.iterrows():\n",
    "    print(index)\n",
    "    uri = row['uri']\n",
    "    track = sp.track(uri)\n",
    "    artist_uri = track['album']['artists'][0]['uri']\n",
    "    artist = sp.artist(artist_uri)    \n",
    "    genres = artist['genres']\n",
    "    print(genres)\n",
    "    str_genres = ' '.join([str(elem) for elem in genres])\n",
    "    row['genre'] = str_genres\n",
    "    df.loc[index, 'genre'] = row['genre']"
   ]
  },
  {
   "cell_type": "code",
   "execution_count": 5,
   "metadata": {},
   "outputs": [
    {
     "name": "stdout",
     "output_type": "stream",
     "text": [
      "   energy  liveness  speechiness  danceability  valence  \\\n",
      "0   0.821    0.0462       0.1750         0.527    0.648   \n",
      "1   0.524    0.2410       0.0287         0.733    0.316   \n",
      "2   0.391    0.1370       0.0845         0.843    0.496   \n",
      "3   0.650    0.0905       0.0306         0.772    0.262   \n",
      "4   0.563    0.1090       0.0945         0.546    0.897   \n",
      "\n",
      "                                    uri                               genre  \n",
      "0  spotify:track:15iXQM0NqJJCWcpeNmrWsh      nova mpb pop lgbtq+ brasileira  \n",
      "1  spotify:track:4qBMiRsJjtm1WR4KyAQqrX                                      \n",
      "2  spotify:track:51Fjme0JiitpyXKuyQiCDo                             pop rap  \n",
      "3  spotify:track:3wPPWcVuinAU7dXcJXtCID  tropical house uk contemporary r&b  \n",
      "4  spotify:track:2DsZ6pXK1AG6emFugTeYW3           mpb nova mpb pop nacional  \n"
     ]
    }
   ],
   "source": [
    "print(df.head())\n",
    "df.to_csv('data/final_audio_features.csv', index=False)"
   ]
  },
  {
   "cell_type": "code",
   "execution_count": 57,
   "metadata": {},
   "outputs": [],
   "source": [
    "df = pd.read_csv(\"data/final_audio_features.csv\")\n",
    "df1 = pd.read_csv(\"data/final_audio_features.csv\")\n",
    "df1.drop(['uri', 'genre'], axis=1, inplace=True)"
   ]
  },
  {
   "cell_type": "code",
   "execution_count": 58,
   "metadata": {},
   "outputs": [
    {
     "data": {
      "text/html": [
       "<div>\n",
       "<style scoped>\n",
       "    .dataframe tbody tr th:only-of-type {\n",
       "        vertical-align: middle;\n",
       "    }\n",
       "\n",
       "    .dataframe tbody tr th {\n",
       "        vertical-align: top;\n",
       "    }\n",
       "\n",
       "    .dataframe thead th {\n",
       "        text-align: right;\n",
       "    }\n",
       "</style>\n",
       "<table border=\"1\" class=\"dataframe\">\n",
       "  <thead>\n",
       "    <tr style=\"text-align: right;\">\n",
       "      <th></th>\n",
       "      <th>energy</th>\n",
       "      <th>liveness</th>\n",
       "      <th>danceability</th>\n",
       "      <th>speechiness</th>\n",
       "      <th>valence</th>\n",
       "    </tr>\n",
       "  </thead>\n",
       "  <tbody>\n",
       "    <tr>\n",
       "      <th>0</th>\n",
       "      <td>0.817568</td>\n",
       "      <td>0.004561</td>\n",
       "      <td>0.275442</td>\n",
       "      <td>0.506934</td>\n",
       "      <td>0.653801</td>\n",
       "    </tr>\n",
       "    <tr>\n",
       "      <th>1</th>\n",
       "      <td>0.504376</td>\n",
       "      <td>0.221270</td>\n",
       "      <td>0.005715</td>\n",
       "      <td>0.751096</td>\n",
       "      <td>0.296850</td>\n",
       "    </tr>\n",
       "    <tr>\n",
       "      <th>2</th>\n",
       "      <td>0.364125</td>\n",
       "      <td>0.105573</td>\n",
       "      <td>0.108591</td>\n",
       "      <td>0.881474</td>\n",
       "      <td>0.490377</td>\n",
       "    </tr>\n",
       "    <tr>\n",
       "      <th>3</th>\n",
       "      <td>0.637246</td>\n",
       "      <td>0.053844</td>\n",
       "      <td>0.009218</td>\n",
       "      <td>0.797321</td>\n",
       "      <td>0.238792</td>\n",
       "    </tr>\n",
       "    <tr>\n",
       "      <th>4</th>\n",
       "      <td>0.545502</td>\n",
       "      <td>0.074424</td>\n",
       "      <td>0.127028</td>\n",
       "      <td>0.529454</td>\n",
       "      <td>0.921514</td>\n",
       "    </tr>\n",
       "  </tbody>\n",
       "</table>\n",
       "</div>"
      ],
      "text/plain": [
       "     energy  liveness  danceability  speechiness   valence\n",
       "0  0.817568  0.004561      0.275442     0.506934  0.653801\n",
       "1  0.504376  0.221270      0.005715     0.751096  0.296850\n",
       "2  0.364125  0.105573      0.108591     0.881474  0.490377\n",
       "3  0.637246  0.053844      0.009218     0.797321  0.238792\n",
       "4  0.545502  0.074424      0.127028     0.529454  0.921514"
      ]
     },
     "execution_count": 58,
     "metadata": {},
     "output_type": "execute_result"
    }
   ],
   "source": [
    "from sklearn import preprocessing\n",
    "x = df1.values \n",
    "min_max_scaler = preprocessing.MinMaxScaler()\n",
    "x_scaled = min_max_scaler.fit_transform(x)\n",
    "df1 = pd.DataFrame(x_scaled, columns=['energy', 'liveness', 'danceability', 'speechiness', 'valence'])\n",
    "df1.head()"
   ]
  },
  {
   "cell_type": "code",
   "execution_count": 59,
   "metadata": {},
   "outputs": [
    {
     "data": {
      "image/png": "[encoded data removed]",
      "text/plain": [
       "<Figure size 576x396 with 2 Axes>"
      ]
     },
     "metadata": {},
     "output_type": "display_data"
    },
    {
     "data": {
      "image/png": "[encoded data removed]",
      "text/plain": [
       "<Figure size 576x396 with 1 Axes>"
      ]
     },
     "metadata": {},
     "output_type": "display_data"
    }
   ],
   "source": [
    "import seaborn as sns\n",
    "ax = sns.heatmap(df1.cov(),vmin=-0.08, vmax=0.08, annot = True)\n",
    "plt.show()\n",
    "\n",
    "df2 = df1.melt(var_name='groups', value_name='vals')\n",
    "ax = sns.violinplot(x=\"groups\", y=\"vals\", data=df2, linewidth = 0.6, inner = 'point', scale= 'width')\n",
    "plt.show()"
   ]
  },
  {
   "cell_type": "code",
   "execution_count": 60,
   "metadata": {},
   "outputs": [],
   "source": [
    "from itertools import permutations\n",
    "\n",
    "columns=['energy', 'liveness', 'danceability', 'speechiness', 'valence']\n",
    "\n",
    "perm = permutations(columns, 3)\n",
    "output = set(map(lambda x: tuple(sorted(x)),perm))\n",
    "a=[]\n",
    "column_names = [\"features\", \"score\", \"elbow\"]\n",
    "df3 = pd.DataFrame(columns = column_names)"
   ]
  },
  {
   "cell_type": "code",
   "execution_count": 61,
   "metadata": {
    "scrolled": false
   },
   "outputs": [
    {
     "name": "stdout",
     "output_type": "stream",
     "text": [
      "                      features     score elbow\n",
      "0           [energy, liveness]  0.448721     3\n",
      "1     [danceability, liveness]  0.452739     3\n",
      "2       [danceability, energy]  0.414700     3\n",
      "3           [energy, liveness]  0.448721     3\n",
      "4  [danceability, speechiness]  0.507313     3\n",
      "5      [liveness, speechiness]  0.610425     3\n",
      "6       [danceability, energy]  0.414700     3\n",
      "7        [energy, speechiness]  0.484094     5\n",
      "8     [danceability, liveness]  0.452739     3\n",
      "9       [danceability, energy]  0.414700     3\n"
     ]
    },
    {
     "data": {
      "image/png": "[encoded data removed]",
      "text/plain": [
       "<Figure size 576x396 with 1 Axes>"
      ]
     },
     "metadata": {},
     "output_type": "display_data"
    }
   ],
   "source": [
    "from yellowbrick.cluster import KElbowVisualizer\n",
    "from sklearn.cluster import KMeans\n",
    "\n",
    "for i in list(output):\n",
    "    df1 = df[[i[0], i[1]]]\n",
    "    x = df1.values  # returns a numpy array\n",
    "    min_max_scaler = preprocessing.MinMaxScaler()\n",
    "    x_scaled = min_max_scaler.fit_transform(x)\n",
    "\n",
    "    model = KMeans(random_state=0)\n",
    "    visualizer = KElbowVisualizer(model, k=(2,12), metric='silhouette', timings=False)\n",
    "    visualizer.fit(x_scaled)\n",
    "    score = visualizer.elbow_score_\n",
    "    value = visualizer.elbow_value_\n",
    "    if score>0.4:\n",
    "        # visualizer.show()\n",
    "        idx = df1.columns\n",
    "        mylist = idx.tolist()\n",
    "        dict = {\n",
    "            \"features\": mylist,\n",
    "            \"score\": score,\n",
    "            \"elbow\": value\n",
    "        }\n",
    "        df3 = df3.append(dict, ignore_index=True)\n",
    "\n",
    "print(df3)"
   ]
  },
  {
   "cell_type": "code",
   "execution_count": 62,
   "metadata": {},
   "outputs": [
    {
     "data": {
      "text/html": [
       "<div>\n",
       "<style scoped>\n",
       "    .dataframe tbody tr th:only-of-type {\n",
       "        vertical-align: middle;\n",
       "    }\n",
       "\n",
       "    .dataframe tbody tr th {\n",
       "        vertical-align: top;\n",
       "    }\n",
       "\n",
       "    .dataframe thead th {\n",
       "        text-align: right;\n",
       "    }\n",
       "</style>\n",
       "<table border=\"1\" class=\"dataframe\">\n",
       "  <thead>\n",
       "    <tr style=\"text-align: right;\">\n",
       "      <th></th>\n",
       "      <th>features</th>\n",
       "      <th>score</th>\n",
       "      <th>elbow</th>\n",
       "    </tr>\n",
       "  </thead>\n",
       "  <tbody>\n",
       "    <tr>\n",
       "      <th>2</th>\n",
       "      <td>[danceability, energy]</td>\n",
       "      <td>0.414700</td>\n",
       "      <td>3</td>\n",
       "    </tr>\n",
       "    <tr>\n",
       "      <th>6</th>\n",
       "      <td>[danceability, energy]</td>\n",
       "      <td>0.414700</td>\n",
       "      <td>3</td>\n",
       "    </tr>\n",
       "    <tr>\n",
       "      <th>9</th>\n",
       "      <td>[danceability, energy]</td>\n",
       "      <td>0.414700</td>\n",
       "      <td>3</td>\n",
       "    </tr>\n",
       "    <tr>\n",
       "      <th>0</th>\n",
       "      <td>[energy, liveness]</td>\n",
       "      <td>0.448721</td>\n",
       "      <td>3</td>\n",
       "    </tr>\n",
       "    <tr>\n",
       "      <th>3</th>\n",
       "      <td>[energy, liveness]</td>\n",
       "      <td>0.448721</td>\n",
       "      <td>3</td>\n",
       "    </tr>\n",
       "    <tr>\n",
       "      <th>1</th>\n",
       "      <td>[danceability, liveness]</td>\n",
       "      <td>0.452739</td>\n",
       "      <td>3</td>\n",
       "    </tr>\n",
       "    <tr>\n",
       "      <th>8</th>\n",
       "      <td>[danceability, liveness]</td>\n",
       "      <td>0.452739</td>\n",
       "      <td>3</td>\n",
       "    </tr>\n",
       "    <tr>\n",
       "      <th>7</th>\n",
       "      <td>[energy, speechiness]</td>\n",
       "      <td>0.484094</td>\n",
       "      <td>5</td>\n",
       "    </tr>\n",
       "    <tr>\n",
       "      <th>4</th>\n",
       "      <td>[danceability, speechiness]</td>\n",
       "      <td>0.507313</td>\n",
       "      <td>3</td>\n",
       "    </tr>\n",
       "    <tr>\n",
       "      <th>5</th>\n",
       "      <td>[liveness, speechiness]</td>\n",
       "      <td>0.610425</td>\n",
       "      <td>3</td>\n",
       "    </tr>\n",
       "  </tbody>\n",
       "</table>\n",
       "</div>"
      ],
      "text/plain": [
       "                      features     score elbow\n",
       "2       [danceability, energy]  0.414700     3\n",
       "6       [danceability, energy]  0.414700     3\n",
       "9       [danceability, energy]  0.414700     3\n",
       "0           [energy, liveness]  0.448721     3\n",
       "3           [energy, liveness]  0.448721     3\n",
       "1     [danceability, liveness]  0.452739     3\n",
       "8     [danceability, liveness]  0.452739     3\n",
       "7        [energy, speechiness]  0.484094     5\n",
       "4  [danceability, speechiness]  0.507313     3\n",
       "5      [liveness, speechiness]  0.610425     3"
      ]
     },
     "execution_count": 62,
     "metadata": {},
     "output_type": "execute_result"
    }
   ],
   "source": [
    "df3.sort_values(by='score')"
   ]
  },
  {
   "cell_type": "code",
   "execution_count": 63,
   "metadata": {},
   "outputs": [],
   "source": [
    "df1 = df[['energy','valence']]\n",
    "\n",
    "x = df1.values\n",
    "min_max_scaler = preprocessing.MinMaxScaler()\n",
    "x_scaled2 = min_max_scaler.fit_transform(x)\n",
    "df1 = pd.DataFrame(x_scaled2)"
   ]
  },
  {
   "cell_type": "code",
   "execution_count": 65,
   "metadata": {},
   "outputs": [
    {
     "data": {
      "application/vnd.plotly.v1+json": {
       "config": {
        "plotlyServerURL": "https://plot.ly"
       },
       "data": [
        {
         "hovertemplate": "energy=%{x}<br>speechiness=%{y}<br>valence=%{z}<br>kmeans=%{marker.color}<extra></extra>",
         "legendgroup": "",
         "marker": {
          "color": [
           7,
           5,
           5,
           2,
           4,
           6,
           1,
           6,
           3,
           7,
           1,
           1,
           4,
           0,
           3,
           4,
           5,
           0,
           0,
           7,
           2,
           4,
           3,
           3,
           2,
           0,
           1,
           5,
           3,
           0,
           7,
           3,
           2,
           6,
           1,
           1,
           8,
           2,
           1,
           5,
           4,
           2,
           3,
           8,
           6,
           0,
           4,
           5,
           4,
           3,
           4,
           6,
           3,
           8,
           7,
           7,
           7,
           0,
           7,
           7,
           0,
           1,
           4,
           3,
           6,
           7,
           5,
           8,
           4,
           4,
           7,
           2,
           2,
           7,
           6,
           7,
           4,
           6,
           1,
           6,
           5,
           5,
           7,
           7,
           1,
           2,
           7,
           3,
           3,
           7,
           7,
           3,
           2,
           3,
           0,
           6,
           4,
           3,
           1,
           3,
           6,
           8,
           0,
           3,
           7,
           1,
           3,
           0,
           7,
           6,
           1,
           7,
           3,
           1,
           2,
           3,
           7,
           5,
           7,
           7,
           6,
           7,
           5,
           4,
           0,
           7,
           4,
           7,
           3,
           7,
           7,
           3,
           7,
           5,
           8,
           1,
           0,
           3,
           1,
           2,
           1,
           5,
           7,
           5,
           7,
           8,
           7,
           1,
           2,
           5,
           6,
           3,
           8,
           3,
           1,
           6,
           3,
           3,
           6,
           2,
           7,
           1,
           1,
           2,
           3,
           5,
           1,
           4,
           6,
           5,
           2,
           1,
           6,
           1,
           8,
           2,
           8,
           7,
           2,
           2,
           2,
           7,
           3,
           1,
           5,
           2,
           5,
           6,
           7,
           6,
           6,
           5,
           7,
           8,
           2,
           1,
           3,
           1,
           0,
           3
          ],
          "coloraxis": "coloraxis",
          "symbol": "circle"
         },
         "mode": "markers",
         "name": "",
         "scene": "scene",
         "showlegend": false,
         "type": "scatter3d",
         "x": [
          0.821,
          0.524,
          0.391,
          0.65,
          0.563,
          0.787,
          0.629,
          0.727,
          0.8640000000000001,
          0.7879999999999999,
          0.62,
          0.742,
          0.625,
          0.74,
          0.982,
          0.499,
          0.47700000000000004,
          0.836,
          0.8240000000000001,
          0.715,
          0.716,
          0.522,
          0.867,
          0.8690000000000001,
          0.649,
          0.8490000000000001,
          0.617,
          0.446,
          0.976,
          0.82,
          0.764,
          0.972,
          0.478,
          0.789,
          0.728,
          0.73,
          0.42700000000000005,
          0.537,
          0.754,
          0.515,
          0.684,
          0.638,
          0.9620000000000001,
          0.28,
          0.76,
          0.7559999999999999,
          0.638,
          0.561,
          0.614,
          0.9440000000000001,
          0.633,
          0.7979999999999999,
          0.902,
          0.371,
          0.619,
          0.88,
          0.695,
          0.7340000000000001,
          0.792,
          0.7340000000000001,
          0.828,
          0.705,
          0.45299999999999996,
          0.852,
          0.7509999999999999,
          0.758,
          0.47200000000000003,
          0.0457,
          0.39399999999999996,
          0.54,
          0.619,
          0.605,
          0.499,
          0.897,
          0.8540000000000001,
          0.826,
          0.608,
          0.787,
          0.753,
          0.893,
          0.505,
          0.5329999999999999,
          0.736,
          0.648,
          0.627,
          0.611,
          0.867,
          0.897,
          0.9179999999999999,
          0.833,
          0.659,
          0.9540000000000001,
          0.6629999999999999,
          0.983,
          0.9670000000000001,
          0.914,
          0.629,
          0.956,
          0.6659999999999999,
          0.9670000000000001,
          0.775,
          0.195,
          0.8490000000000001,
          0.9229999999999999,
          0.878,
          0.633,
          0.851,
          0.868,
          0.7340000000000001,
          0.851,
          0.703,
          0.856,
          0.8909999999999999,
          0.741,
          0.563,
          0.884,
          0.713,
          0.308,
          0.792,
          0.861,
          0.804,
          0.7,
          0.523,
          0.585,
          0.735,
          0.623,
          0.46,
          0.636,
          0.857,
          0.815,
          0.7040000000000001,
          0.8109999999999999,
          0.703,
          0.48100000000000004,
          0.429,
          0.7609999999999999,
          0.9309999999999999,
          0.9359999999999999,
          0.679,
          0.626,
          0.769,
          0.565,
          0.621,
          0.541,
          0.647,
          0.297,
          0.8340000000000001,
          0.6629999999999999,
          0.473,
          0.5,
          0.9590000000000001,
          0.909,
          0.42200000000000004,
          0.875,
          0.731,
          0.887,
          0.8740000000000001,
          0.9329999999999999,
          0.863,
          0.636,
          0.79,
          0.636,
          0.809,
          0.5760000000000001,
          0.818,
          0.505,
          0.6509999999999999,
          0.66,
          0.741,
          0.522,
          0.541,
          0.7070000000000001,
          0.925,
          0.599,
          0.294,
          0.595,
          0.444,
          0.831,
          0.612,
          0.657,
          0.639,
          0.972,
          0.9940000000000001,
          0.6779999999999999,
          0.42700000000000005,
          0.526,
          0.377,
          0.902,
          0.836,
          0.941,
          0.825,
          0.539,
          0.78,
          0.419,
          0.551,
          0.745,
          0.877,
          0.67,
          0.924,
          0.9590000000000001
         ],
         "y": [
          0.175,
          0.0287,
          0.0845,
          0.0306,
          0.0945,
          0.032,
          0.0735,
          0.0274,
          0.0584,
          0.113,
          0.0567,
          0.0898,
          0.0601,
          0.172,
          0.20800000000000002,
          0.157,
          0.0687,
          0.0444,
          0.0772,
          0.0407,
          0.0349,
          0.0479,
          0.0843,
          0.0387,
          0.0349,
          0.0526,
          0.0287,
          0.0452,
          0.0492,
          0.0728,
          0.214,
          0.0774,
          0.0484,
          0.044000000000000004,
          0.0484,
          0.222,
          0.0317,
          0.0514,
          0.0383,
          0.0486,
          0.0282,
          0.04,
          0.0842,
          0.0281,
          0.11599999999999999,
          0.0353,
          0.075,
          0.335,
          0.0427,
          0.0465,
          0.0708,
          0.0391,
          0.0468,
          0.0324,
          0.102,
          0.0438,
          0.0894,
          0.0588,
          0.0452,
          0.0375,
          0.0281,
          0.0832,
          0.295,
          0.0332,
          0.0527,
          0.0371,
          0.0353,
          0.0344,
          0.0428,
          0.0287,
          0.162,
          0.0492,
          0.0311,
          0.0488,
          0.46299999999999997,
          0.0892,
          0.0659,
          0.401,
          0.239,
          0.0532,
          0.11699999999999999,
          0.0416,
          0.0354,
          0.0628,
          0.156,
          0.0409,
          0.10300000000000001,
          0.0723,
          0.0659,
          0.0563,
          0.0277,
          0.0748,
          0.265,
          0.0721,
          0.0601,
          0.11,
          0.0442,
          0.11800000000000001,
          0.0317,
          0.0508,
          0.0546,
          0.0797,
          0.0536,
          0.08900000000000001,
          0.0326,
          0.0682,
          0.0987,
          0.0517,
          0.0316,
          0.0645,
          0.0429,
          0.0565,
          0.11900000000000001,
          0.0287,
          0.0272,
          0.0404,
          0.11199999999999999,
          0.028999999999999998,
          0.0348,
          0.109,
          0.0448,
          0.0694,
          0.03,
          0.0288,
          0.0384,
          0.0256,
          0.0437,
          0.0437,
          0.0655,
          0.0905,
          0.0476,
          0.28600000000000003,
          0.0369,
          0.0289,
          0.033,
          0.226,
          0.0378,
          0.0706,
          0.0489,
          0.0467,
          0.0872,
          0.0537,
          0.129,
          0.0505,
          0.172,
          0.0339,
          0.045,
          0.1,
          0.0359,
          0.0443,
          0.0681,
          0.0712,
          0.0323,
          0.0441,
          0.0429,
          0.0882,
          0.0459,
          0.0621,
          0.057,
          0.0285,
          0.0297,
          0.0653,
          0.0577,
          0.0536,
          0.033,
          0.0933,
          0.0499,
          0.0429,
          0.0557,
          0.0331,
          0.028999999999999998,
          0.0348,
          0.109,
          0.031,
          0.031,
          0.0332,
          0.0345,
          0.0346,
          0.0562,
          0.037000000000000005,
          0.0402,
          0.0951,
          0.568,
          0.0305,
          0.0334,
          0.0363,
          0.0388,
          0.0686,
          0.0612,
          0.0918,
          0.04,
          0.0322,
          0.0418,
          0.0489,
          0.0335,
          0.0425,
          0.0582,
          0.0328,
          0.0741,
          0.138
         ],
         "z": [
          0.648,
          0.316,
          0.496,
          0.262,
          0.897,
          0.19899999999999998,
          0.4,
          0.223,
          0.4,
          0.528,
          0.457,
          0.32799999999999996,
          0.826,
          0.746,
          0.413,
          0.8809999999999999,
          0.545,
          0.8740000000000001,
          0.763,
          0.5710000000000001,
          0.163,
          0.892,
          0.38,
          0.384,
          0.133,
          0.903,
          0.41700000000000004,
          0.271,
          0.483,
          0.7809999999999999,
          0.691,
          0.556,
          0.0412,
          0.0564,
          0.43,
          0.446,
          0.0605,
          0.28,
          0.41,
          0.516,
          0.7509999999999999,
          0.113,
          0.489,
          0.175,
          0.27899999999999997,
          0.815,
          0.735,
          0.541,
          0.71,
          0.40299999999999997,
          0.685,
          0.168,
          0.375,
          0.223,
          0.639,
          0.58,
          0.652,
          0.9520000000000001,
          0.6709999999999999,
          0.645,
          0.79,
          0.49,
          0.68,
          0.37799999999999995,
          0.221,
          0.619,
          0.44799999999999995,
          0.0967,
          0.7190000000000001,
          0.75,
          0.58,
          0.16399999999999998,
          0.10800000000000001,
          0.684,
          0.152,
          0.613,
          0.8490000000000001,
          0.131,
          0.325,
          0.174,
          0.337,
          0.47200000000000003,
          0.644,
          0.573,
          0.395,
          0.22,
          0.602,
          0.419,
          0.40299999999999997,
          0.574,
          0.665,
          0.355,
          0.18100000000000002,
          0.363,
          0.725,
          0.23600000000000002,
          0.87,
          0.44799999999999995,
          0.353,
          0.596,
          0.27899999999999997,
          0.171,
          0.826,
          0.473,
          0.579,
          0.44799999999999995,
          0.35,
          0.8690000000000001,
          0.7040000000000001,
          0.309,
          0.414,
          0.645,
          0.449,
          0.35700000000000004,
          0.209,
          0.39799999999999996,
          0.69,
          0.52,
          0.608,
          0.654,
          0.306,
          0.608,
          0.39399999999999996,
          0.784,
          0.97,
          0.65,
          0.934,
          0.565,
          0.39299999999999996,
          0.5710000000000001,
          0.628,
          0.494,
          0.595,
          0.295,
          0.16699999999999998,
          0.345,
          0.815,
          0.354,
          0.466,
          0.0399,
          0.385,
          0.58,
          0.5670000000000001,
          0.44799999999999995,
          0.62,
          0.156,
          0.687,
          0.41200000000000003,
          0.207,
          0.545,
          0.0958,
          0.4,
          0.138,
          0.483,
          0.365,
          0.248,
          0.373,
          0.557,
          0.304,
          0.175,
          0.518,
          0.312,
          0.349,
          0.16699999999999998,
          0.474,
          0.312,
          0.368,
          0.898,
          0.263,
          0.33399999999999996,
          0.0991,
          0.37,
          0.20800000000000002,
          0.327,
          0.129,
          0.10800000000000001,
          0.245,
          0.531,
          0.14,
          0.136,
          0.136,
          0.652,
          0.342,
          0.284,
          0.451,
          0.187,
          0.39799999999999996,
          0.20199999999999999,
          0.5720000000000001,
          0.17600000000000002,
          0.26899999999999996,
          0.39,
          0.514,
          0.07,
          0.10800000000000001,
          0.43200000000000005,
          0.516,
          0.37799999999999995,
          0.784,
          0.512
         ]
        }
       ],
       "layout": {
        "coloraxis": {
         "colorbar": {
          "title": {
           "text": "kmeans"
          }
         },
         "colorscale": [
          [
           0,
           "#0d0887"
          ],
          [
           0.1111111111111111,
           "#46039f"
          ],
          [
           0.2222222222222222,
           "#7201a8"
          ],
          [
           0.3333333333333333,
           "#9c179e"
          ],
          [
           0.4444444444444444,
           "#bd3786"
          ],
          [
           0.5555555555555556,
           "#d8576b"
          ],
          [
           0.6666666666666666,
           "#ed7953"
          ],
          [
           0.7777777777777778,
           "#fb9f3a"
          ],
          [
           0.8888888888888888,
           "#fdca26"
          ],
          [
           1,
           "#f0f921"
          ]
         ]
        },
        "legend": {
         "tracegroupgap": 0
        },
        "margin": {
         "t": 60
        },
        "scene": {
         "domain": {
          "x": [
           0,
           1
          ],
          "y": [
           0,
           1
          ]
         },
         "xaxis": {
          "title": {
           "text": "energy"
          }
         },
         "yaxis": {
          "title": {
           "text": "speechiness"
          }
         },
         "zaxis": {
          "title": {
           "text": "valence"
          }
         }
        },
        "template": {
         "data": {
          "bar": [
           {
            "error_x": {
             "color": "#2a3f5f"
            },
            "error_y": {
             "color": "#2a3f5f"
            },
            "marker": {
             "line": {
              "color": "#E5ECF6",
              "width": 0.5
             }
            },
            "type": "bar"
           }
          ],
          "barpolar": [
           {
            "marker": {
             "line": {
              "color": "#E5ECF6",
              "width": 0.5
             }
            },
            "type": "barpolar"
           }
          ],
          "carpet": [
           {
            "aaxis": {
             "endlinecolor": "#2a3f5f",
             "gridcolor": "white",
             "linecolor": "white",
             "minorgridcolor": "white",
             "startlinecolor": "#2a3f5f"
            },
            "baxis": {
             "endlinecolor": "#2a3f5f",
             "gridcolor": "white",
             "linecolor": "white",
             "minorgridcolor": "white",
             "startlinecolor": "#2a3f5f"
            },
            "type": "carpet"
           }
          ],
          "choropleth": [
           {
            "colorbar": {
             "outlinewidth": 0,
             "ticks": ""
            },
            "type": "choropleth"
           }
          ],
          "contour": [
           {
            "colorbar": {
             "outlinewidth": 0,
             "ticks": ""
            },
            "colorscale": [
             [
              0,
              "#0d0887"
             ],
             [
              0.1111111111111111,
              "#46039f"
             ],
             [
              0.2222222222222222,
              "#7201a8"
             ],
             [
              0.3333333333333333,
              "#9c179e"
             ],
             [
              0.4444444444444444,
              "#bd3786"
             ],
             [
              0.5555555555555556,
              "#d8576b"
             ],
             [
              0.6666666666666666,
              "#ed7953"
             ],
             [
              0.7777777777777778,
              "#fb9f3a"
             ],
             [
              0.8888888888888888,
              "#fdca26"
             ],
             [
              1,
              "#f0f921"
             ]
            ],
            "type": "contour"
           }
          ],
          "contourcarpet": [
           {
            "colorbar": {
             "outlinewidth": 0,
             "ticks": ""
            },
            "type": "contourcarpet"
           }
          ],
          "heatmap": [
           {
            "colorbar": {
             "outlinewidth": 0,
             "ticks": ""
            },
            "colorscale": [
             [
              0,
              "#0d0887"
             ],
             [
              0.1111111111111111,
              "#46039f"
             ],
             [
              0.2222222222222222,
              "#7201a8"
             ],
             [
              0.3333333333333333,
              "#9c179e"
             ],
             [
              0.4444444444444444,
              "#bd3786"
             ],
             [
              0.5555555555555556,
              "#d8576b"
             ],
             [
              0.6666666666666666,
              "#ed7953"
             ],
             [
              0.7777777777777778,
              "#fb9f3a"
             ],
             [
              0.8888888888888888,
              "#fdca26"
             ],
             [
              1,
              "#f0f921"
             ]
            ],
            "type": "heatmap"
           }
          ],
          "heatmapgl": [
           {
            "colorbar": {
             "outlinewidth": 0,
             "ticks": ""
            },
            "colorscale": [
             [
              0,
              "#0d0887"
             ],
             [
              0.1111111111111111,
              "#46039f"
             ],
             [
              0.2222222222222222,
              "#7201a8"
             ],
             [
              0.3333333333333333,
              "#9c179e"
             ],
             [
              0.4444444444444444,
              "#bd3786"
             ],
             [
              0.5555555555555556,
              "#d8576b"
             ],
             [
              0.6666666666666666,
              "#ed7953"
             ],
             [
              0.7777777777777778,
              "#fb9f3a"
             ],
             [
              0.8888888888888888,
              "#fdca26"
             ],
             [
              1,
              "#f0f921"
             ]
            ],
            "type": "heatmapgl"
           }
          ],
          "histogram": [
           {
            "marker": {
             "colorbar": {
              "outlinewidth": 0,
              "ticks": ""
             }
            },
            "type": "histogram"
           }
          ],
          "histogram2d": [
           {
            "colorbar": {
             "outlinewidth": 0,
             "ticks": ""
            },
            "colorscale": [
             [
              0,
              "#0d0887"
             ],
             [
              0.1111111111111111,
              "#46039f"
             ],
             [
              0.2222222222222222,
              "#7201a8"
             ],
             [
              0.3333333333333333,
              "#9c179e"
             ],
             [
              0.4444444444444444,
              "#bd3786"
             ],
             [
              0.5555555555555556,
              "#d8576b"
             ],
             [
              0.6666666666666666,
              "#ed7953"
             ],
             [
              0.7777777777777778,
              "#fb9f3a"
             ],
             [
              0.8888888888888888,
              "#fdca26"
             ],
             [
              1,
              "#f0f921"
             ]
            ],
            "type": "histogram2d"
           }
          ],
          "histogram2dcontour": [
           {
            "colorbar": {
             "outlinewidth": 0,
             "ticks": ""
            },
            "colorscale": [
             [
              0,
              "#0d0887"
             ],
             [
              0.1111111111111111,
              "#46039f"
             ],
             [
              0.2222222222222222,
              "#7201a8"
             ],
             [
              0.3333333333333333,
              "#9c179e"
             ],
             [
              0.4444444444444444,
              "#bd3786"
             ],
             [
              0.5555555555555556,
              "#d8576b"
             ],
             [
              0.6666666666666666,
              "#ed7953"
             ],
             [
              0.7777777777777778,
              "#fb9f3a"
             ],
             [
              0.8888888888888888,
              "#fdca26"
             ],
             [
              1,
              "#f0f921"
             ]
            ],
            "type": "histogram2dcontour"
           }
          ],
          "mesh3d": [
           {
            "colorbar": {
             "outlinewidth": 0,
             "ticks": ""
            },
            "type": "mesh3d"
           }
          ],
          "parcoords": [
           {
            "line": {
             "colorbar": {
              "outlinewidth": 0,
              "ticks": ""
             }
            },
            "type": "parcoords"
           }
          ],
          "pie": [
           {
            "automargin": true,
            "type": "pie"
           }
          ],
          "scatter": [
           {
            "marker": {
             "colorbar": {
              "outlinewidth": 0,
              "ticks": ""
             }
            },
            "type": "scatter"
           }
          ],
          "scatter3d": [
           {
            "line": {
             "colorbar": {
              "outlinewidth": 0,
              "ticks": ""
             }
            },
            "marker": {
             "colorbar": {
              "outlinewidth": 0,
              "ticks": ""
             }
            },
            "type": "scatter3d"
           }
          ],
          "scattercarpet": [
           {
            "marker": {
             "colorbar": {
              "outlinewidth": 0,
              "ticks": ""
             }
            },
            "type": "scattercarpet"
           }
          ],
          "scattergeo": [
           {
            "marker": {
             "colorbar": {
              "outlinewidth": 0,
              "ticks": ""
             }
            },
            "type": "scattergeo"
           }
          ],
          "scattergl": [
           {
            "marker": {
             "colorbar": {
              "outlinewidth": 0,
              "ticks": ""
             }
            },
            "type": "scattergl"
           }
          ],
          "scattermapbox": [
           {
            "marker": {
             "colorbar": {
              "outlinewidth": 0,
              "ticks": ""
             }
            },
            "type": "scattermapbox"
           }
          ],
          "scatterpolar": [
           {
            "marker": {
             "colorbar": {
              "outlinewidth": 0,
              "ticks": ""
             }
            },
            "type": "scatterpolar"
           }
          ],
          "scatterpolargl": [
           {
            "marker": {
             "colorbar": {
              "outlinewidth": 0,
              "ticks": ""
             }
            },
            "type": "scatterpolargl"
           }
          ],
          "scatterternary": [
           {
            "marker": {
             "colorbar": {
              "outlinewidth": 0,
              "ticks": ""
             }
            },
            "type": "scatterternary"
           }
          ],
          "surface": [
           {
            "colorbar": {
             "outlinewidth": 0,
             "ticks": ""
            },
            "colorscale": [
             [
              0,
              "#0d0887"
             ],
             [
              0.1111111111111111,
              "#46039f"
             ],
             [
              0.2222222222222222,
              "#7201a8"
             ],
             [
              0.3333333333333333,
              "#9c179e"
             ],
             [
              0.4444444444444444,
              "#bd3786"
             ],
             [
              0.5555555555555556,
              "#d8576b"
             ],
             [
              0.6666666666666666,
              "#ed7953"
             ],
             [
              0.7777777777777778,
              "#fb9f3a"
             ],
             [
              0.8888888888888888,
              "#fdca26"
             ],
             [
              1,
              "#f0f921"
             ]
            ],
            "type": "surface"
           }
          ],
          "table": [
           {
            "cells": {
             "fill": {
              "color": "#EBF0F8"
             },
             "line": {
              "color": "white"
             }
            },
            "header": {
             "fill": {
              "color": "#C8D4E3"
             },
             "line": {
              "color": "white"
             }
            },
            "type": "table"
           }
          ]
         },
         "layout": {
          "annotationdefaults": {
           "arrowcolor": "#2a3f5f",
           "arrowhead": 0,
           "arrowwidth": 1
          },
          "coloraxis": {
           "colorbar": {
            "outlinewidth": 0,
            "ticks": ""
           }
          },
          "colorscale": {
           "diverging": [
            [
             0,
             "#8e0152"
            ],
            [
             0.1,
             "#c51b7d"
            ],
            [
             0.2,
             "#de77ae"
            ],
            [
             0.3,
             "#f1b6da"
            ],
            [
             0.4,
             "#fde0ef"
            ],
            [
             0.5,
             "#f7f7f7"
            ],
            [
             0.6,
             "#e6f5d0"
            ],
            [
             0.7,
             "#b8e186"
            ],
            [
             0.8,
             "#7fbc41"
            ],
            [
             0.9,
             "#4d9221"
            ],
            [
             1,
             "#276419"
            ]
           ],
           "sequential": [
            [
             0,
             "#0d0887"
            ],
            [
             0.1111111111111111,
             "#46039f"
            ],
            [
             0.2222222222222222,
             "#7201a8"
            ],
            [
             0.3333333333333333,
             "#9c179e"
            ],
            [
             0.4444444444444444,
             "#bd3786"
            ],
            [
             0.5555555555555556,
             "#d8576b"
            ],
            [
             0.6666666666666666,
             "#ed7953"
            ],
            [
             0.7777777777777778,
             "#fb9f3a"
            ],
            [
             0.8888888888888888,
             "#fdca26"
            ],
            [
             1,
             "#f0f921"
            ]
           ],
           "sequentialminus": [
            [
             0,
             "#0d0887"
            ],
            [
             0.1111111111111111,
             "#46039f"
            ],
            [
             0.2222222222222222,
             "#7201a8"
            ],
            [
             0.3333333333333333,
             "#9c179e"
            ],
            [
             0.4444444444444444,
             "#bd3786"
            ],
            [
             0.5555555555555556,
             "#d8576b"
            ],
            [
             0.6666666666666666,
             "#ed7953"
            ],
            [
             0.7777777777777778,
             "#fb9f3a"
            ],
            [
             0.8888888888888888,
             "#fdca26"
            ],
            [
             1,
             "#f0f921"
            ]
           ]
          },
          "colorway": [
           "#636efa",
           "#EF553B",
           "#00cc96",
           "#ab63fa",
           "#FFA15A",
           "#19d3f3",
           "#FF6692",
           "#B6E880",
           "#FF97FF",
           "#FECB52"
          ],
          "font": {
           "color": "#2a3f5f"
          },
          "geo": {
           "bgcolor": "white",
           "lakecolor": "white",
           "landcolor": "#E5ECF6",
           "showlakes": true,
           "showland": true,
           "subunitcolor": "white"
          },
          "hoverlabel": {
           "align": "left"
          },
          "hovermode": "closest",
          "mapbox": {
           "style": "light"
          },
          "paper_bgcolor": "white",
          "plot_bgcolor": "#E5ECF6",
          "polar": {
           "angularaxis": {
            "gridcolor": "white",
            "linecolor": "white",
            "ticks": ""
           },
           "bgcolor": "#E5ECF6",
           "radialaxis": {
            "gridcolor": "white",
            "linecolor": "white",
            "ticks": ""
           }
          },
          "scene": {
           "xaxis": {
            "backgroundcolor": "#E5ECF6",
            "gridcolor": "white",
            "gridwidth": 2,
            "linecolor": "white",
            "showbackground": true,
            "ticks": "",
            "zerolinecolor": "white"
           },
           "yaxis": {
            "backgroundcolor": "#E5ECF6",
            "gridcolor": "white",
            "gridwidth": 2,
            "linecolor": "white",
            "showbackground": true,
            "ticks": "",
            "zerolinecolor": "white"
           },
           "zaxis": {
            "backgroundcolor": "#E5ECF6",
            "gridcolor": "white",
            "gridwidth": 2,
            "linecolor": "white",
            "showbackground": true,
            "ticks": "",
            "zerolinecolor": "white"
           }
          },
          "shapedefaults": {
           "line": {
            "color": "#2a3f5f"
           }
          },
          "ternary": {
           "aaxis": {
            "gridcolor": "white",
            "linecolor": "white",
            "ticks": ""
           },
           "baxis": {
            "gridcolor": "white",
            "linecolor": "white",
            "ticks": ""
           },
           "bgcolor": "#E5ECF6",
           "caxis": {
            "gridcolor": "white",
            "linecolor": "white",
            "ticks": ""
           }
          },
          "title": {
           "x": 0.05
          },
          "xaxis": {
           "automargin": true,
           "gridcolor": "white",
           "linecolor": "white",
           "ticks": "",
           "title": {
            "standoff": 15
           },
           "zerolinecolor": "white",
           "zerolinewidth": 2
          },
          "yaxis": {
           "automargin": true,
           "gridcolor": "white",
           "linecolor": "white",
           "ticks": "",
           "title": {
            "standoff": 15
           },
           "zerolinecolor": "white",
           "zerolinewidth": 2
          }
         }
        }
       }
      },
      "text/html": [
       "<div>                            <div id=\"145bcab5-3306-40d1-a81a-522de0e79c68\" class=\"plotly-graph-div\" style=\"height:525px; width:100%;\"></div>            <script type=\"text/javascript\">                require([\"plotly\"], function(Plotly) {                    window.PLOTLYENV=window.PLOTLYENV || {};                                    if (document.getElementById(\"145bcab5-3306-40d1-a81a-522de0e79c68\")) {                    Plotly.newPlot(                        \"145bcab5-3306-40d1-a81a-522de0e79c68\",                        [{\"hovertemplate\": \"energy=%{x}<br>speechiness=%{y}<br>valence=%{z}<br>kmeans=%{marker.color}<extra></extra>\", \"legendgroup\": \"\", \"marker\": {\"color\": [7, 5, 5, 2, 4, 6, 1, 6, 3, 7, 1, 1, 4, 0, 3, 4, 5, 0, 0, 7, 2, 4, 3, 3, 2, 0, 1, 5, 3, 0, 7, 3, 2, 6, 1, 1, 8, 2, 1, 5, 4, 2, 3, 8, 6, 0, 4, 5, 4, 3, 4, 6, 3, 8, 7, 7, 7, 0, 7, 7, 0, 1, 4, 3, 6, 7, 5, 8, 4, 4, 7, 2, 2, 7, 6, 7, 4, 6, 1, 6, 5, 5, 7, 7, 1, 2, 7, 3, 3, 7, 7, 3, 2, 3, 0, 6, 4, 3, 1, 3, 6, 8, 0, 3, 7, 1, 3, 0, 7, 6, 1, 7, 3, 1, 2, 3, 7, 5, 7, 7, 6, 7, 5, 4, 0, 7, 4, 7, 3, 7, 7, 3, 7, 5, 8, 1, 0, 3, 1, 2, 1, 5, 7, 5, 7, 8, 7, 1, 2, 5, 6, 3, 8, 3, 1, 6, 3, 3, 6, 2, 7, 1, 1, 2, 3, 5, 1, 4, 6, 5, 2, 1, 6, 1, 8, 2, 8, 7, 2, 2, 2, 7, 3, 1, 5, 2, 5, 6, 7, 6, 6, 5, 7, 8, 2, 1, 3, 1, 0, 3], \"coloraxis\": \"coloraxis\", \"symbol\": \"circle\"}, \"mode\": \"markers\", \"name\": \"\", \"scene\": \"scene\", \"showlegend\": false, \"type\": \"scatter3d\", \"x\": [0.821, 0.524, 0.391, 0.65, 0.563, 0.787, 0.629, 0.727, 0.8640000000000001, 0.7879999999999999, 0.62, 0.742, 0.625, 0.74, 0.982, 0.499, 0.47700000000000004, 0.836, 0.8240000000000001, 0.715, 0.716, 0.522, 0.867, 0.8690000000000001, 0.649, 0.8490000000000001, 0.617, 0.446, 0.976, 0.82, 0.764, 0.972, 0.478, 0.789, 0.728, 0.73, 0.42700000000000005, 0.537, 0.754, 0.515, 0.684, 0.638, 0.9620000000000001, 0.28, 0.76, 0.7559999999999999, 0.638, 0.561, 0.614, 0.9440000000000001, 0.633, 0.7979999999999999, 0.902, 0.371, 0.619, 0.88, 0.695, 0.7340000000000001, 0.792, 0.7340000000000001, 0.828, 0.705, 0.45299999999999996, 0.852, 0.7509999999999999, 0.758, 0.47200000000000003, 0.0457, 0.39399999999999996, 0.54, 0.619, 0.605, 0.499, 0.897, 0.8540000000000001, 0.826, 0.608, 0.787, 0.753, 0.893, 0.505, 0.5329999999999999, 0.736, 0.648, 0.627, 0.611, 0.867, 0.897, 0.9179999999999999, 0.833, 0.659, 0.9540000000000001, 0.6629999999999999, 0.983, 0.9670000000000001, 0.914, 0.629, 0.956, 0.6659999999999999, 0.9670000000000001, 0.775, 0.195, 0.8490000000000001, 0.9229999999999999, 0.878, 0.633, 0.851, 0.868, 0.7340000000000001, 0.851, 0.703, 0.856, 0.8909999999999999, 0.741, 0.563, 0.884, 0.713, 0.308, 0.792, 0.861, 0.804, 0.7, 0.523, 0.585, 0.735, 0.623, 0.46, 0.636, 0.857, 0.815, 0.7040000000000001, 0.8109999999999999, 0.703, 0.48100000000000004, 0.429, 0.7609999999999999, 0.9309999999999999, 0.9359999999999999, 0.679, 0.626, 0.769, 0.565, 0.621, 0.541, 0.647, 0.297, 0.8340000000000001, 0.6629999999999999, 0.473, 0.5, 0.9590000000000001, 0.909, 0.42200000000000004, 0.875, 0.731, 0.887, 0.8740000000000001, 0.9329999999999999, 0.863, 0.636, 0.79, 0.636, 0.809, 0.5760000000000001, 0.818, 0.505, 0.6509999999999999, 0.66, 0.741, 0.522, 0.541, 0.7070000000000001, 0.925, 0.599, 0.294, 0.595, 0.444, 0.831, 0.612, 0.657, 0.639, 0.972, 0.9940000000000001, 0.6779999999999999, 0.42700000000000005, 0.526, 0.377, 0.902, 0.836, 0.941, 0.825, 0.539, 0.78, 0.419, 0.551, 0.745, 0.877, 0.67, 0.924, 0.9590000000000001], \"y\": [0.175, 0.0287, 0.0845, 0.0306, 0.0945, 0.032, 0.0735, 0.0274, 0.0584, 0.113, 0.0567, 0.0898, 0.0601, 0.172, 0.20800000000000002, 0.157, 0.0687, 0.0444, 0.0772, 0.0407, 0.0349, 0.0479, 0.0843, 0.0387, 0.0349, 0.0526, 0.0287, 0.0452, 0.0492, 0.0728, 0.214, 0.0774, 0.0484, 0.044000000000000004, 0.0484, 0.222, 0.0317, 0.0514, 0.0383, 0.0486, 0.0282, 0.04, 0.0842, 0.0281, 0.11599999999999999, 0.0353, 0.075, 0.335, 0.0427, 0.0465, 0.0708, 0.0391, 0.0468, 0.0324, 0.102, 0.0438, 0.0894, 0.0588, 0.0452, 0.0375, 0.0281, 0.0832, 0.295, 0.0332, 0.0527, 0.0371, 0.0353, 0.0344, 0.0428, 0.0287, 0.162, 0.0492, 0.0311, 0.0488, 0.46299999999999997, 0.0892, 0.0659, 0.401, 0.239, 0.0532, 0.11699999999999999, 0.0416, 0.0354, 0.0628, 0.156, 0.0409, 0.10300000000000001, 0.0723, 0.0659, 0.0563, 0.0277, 0.0748, 0.265, 0.0721, 0.0601, 0.11, 0.0442, 0.11800000000000001, 0.0317, 0.0508, 0.0546, 0.0797, 0.0536, 0.08900000000000001, 0.0326, 0.0682, 0.0987, 0.0517, 0.0316, 0.0645, 0.0429, 0.0565, 0.11900000000000001, 0.0287, 0.0272, 0.0404, 0.11199999999999999, 0.028999999999999998, 0.0348, 0.109, 0.0448, 0.0694, 0.03, 0.0288, 0.0384, 0.0256, 0.0437, 0.0437, 0.0655, 0.0905, 0.0476, 0.28600000000000003, 0.0369, 0.0289, 0.033, 0.226, 0.0378, 0.0706, 0.0489, 0.0467, 0.0872, 0.0537, 0.129, 0.0505, 0.172, 0.0339, 0.045, 0.1, 0.0359, 0.0443, 0.0681, 0.0712, 0.0323, 0.0441, 0.0429, 0.0882, 0.0459, 0.0621, 0.057, 0.0285, 0.0297, 0.0653, 0.0577, 0.0536, 0.033, 0.0933, 0.0499, 0.0429, 0.0557, 0.0331, 0.028999999999999998, 0.0348, 0.109, 0.031, 0.031, 0.0332, 0.0345, 0.0346, 0.0562, 0.037000000000000005, 0.0402, 0.0951, 0.568, 0.0305, 0.0334, 0.0363, 0.0388, 0.0686, 0.0612, 0.0918, 0.04, 0.0322, 0.0418, 0.0489, 0.0335, 0.0425, 0.0582, 0.0328, 0.0741, 0.138], \"z\": [0.648, 0.316, 0.496, 0.262, 0.897, 0.19899999999999998, 0.4, 0.223, 0.4, 0.528, 0.457, 0.32799999999999996, 0.826, 0.746, 0.413, 0.8809999999999999, 0.545, 0.8740000000000001, 0.763, 0.5710000000000001, 0.163, 0.892, 0.38, 0.384, 0.133, 0.903, 0.41700000000000004, 0.271, 0.483, 0.7809999999999999, 0.691, 0.556, 0.0412, 0.0564, 0.43, 0.446, 0.0605, 0.28, 0.41, 0.516, 0.7509999999999999, 0.113, 0.489, 0.175, 0.27899999999999997, 0.815, 0.735, 0.541, 0.71, 0.40299999999999997, 0.685, 0.168, 0.375, 0.223, 0.639, 0.58, 0.652, 0.9520000000000001, 0.6709999999999999, 0.645, 0.79, 0.49, 0.68, 0.37799999999999995, 0.221, 0.619, 0.44799999999999995, 0.0967, 0.7190000000000001, 0.75, 0.58, 0.16399999999999998, 0.10800000000000001, 0.684, 0.152, 0.613, 0.8490000000000001, 0.131, 0.325, 0.174, 0.337, 0.47200000000000003, 0.644, 0.573, 0.395, 0.22, 0.602, 0.419, 0.40299999999999997, 0.574, 0.665, 0.355, 0.18100000000000002, 0.363, 0.725, 0.23600000000000002, 0.87, 0.44799999999999995, 0.353, 0.596, 0.27899999999999997, 0.171, 0.826, 0.473, 0.579, 0.44799999999999995, 0.35, 0.8690000000000001, 0.7040000000000001, 0.309, 0.414, 0.645, 0.449, 0.35700000000000004, 0.209, 0.39799999999999996, 0.69, 0.52, 0.608, 0.654, 0.306, 0.608, 0.39399999999999996, 0.784, 0.97, 0.65, 0.934, 0.565, 0.39299999999999996, 0.5710000000000001, 0.628, 0.494, 0.595, 0.295, 0.16699999999999998, 0.345, 0.815, 0.354, 0.466, 0.0399, 0.385, 0.58, 0.5670000000000001, 0.44799999999999995, 0.62, 0.156, 0.687, 0.41200000000000003, 0.207, 0.545, 0.0958, 0.4, 0.138, 0.483, 0.365, 0.248, 0.373, 0.557, 0.304, 0.175, 0.518, 0.312, 0.349, 0.16699999999999998, 0.474, 0.312, 0.368, 0.898, 0.263, 0.33399999999999996, 0.0991, 0.37, 0.20800000000000002, 0.327, 0.129, 0.10800000000000001, 0.245, 0.531, 0.14, 0.136, 0.136, 0.652, 0.342, 0.284, 0.451, 0.187, 0.39799999999999996, 0.20199999999999999, 0.5720000000000001, 0.17600000000000002, 0.26899999999999996, 0.39, 0.514, 0.07, 0.10800000000000001, 0.43200000000000005, 0.516, 0.37799999999999995, 0.784, 0.512]}],                        {\"coloraxis\": {\"colorbar\": {\"title\": {\"text\": \"kmeans\"}}, \"colorscale\": [[0.0, \"#0d0887\"], [0.1111111111111111, \"#46039f\"], [0.2222222222222222, \"#7201a8\"], [0.3333333333333333, \"#9c179e\"], [0.4444444444444444, \"#bd3786\"], [0.5555555555555556, \"#d8576b\"], [0.6666666666666666, \"#ed7953\"], [0.7777777777777778, \"#fb9f3a\"], [0.8888888888888888, \"#fdca26\"], [1.0, \"#f0f921\"]]}, \"legend\": {\"tracegroupgap\": 0}, \"margin\": {\"t\": 60}, \"scene\": {\"domain\": {\"x\": [0.0, 1.0], \"y\": [0.0, 1.0]}, \"xaxis\": {\"title\": {\"text\": \"energy\"}}, \"yaxis\": {\"title\": {\"text\": \"speechiness\"}}, \"zaxis\": {\"title\": {\"text\": \"valence\"}}}, \"template\": {\"data\": {\"bar\": [{\"error_x\": {\"color\": \"#2a3f5f\"}, \"error_y\": {\"color\": \"#2a3f5f\"}, \"marker\": {\"line\": {\"color\": \"#E5ECF6\", \"width\": 0.5}}, \"type\": \"bar\"}], \"barpolar\": [{\"marker\": {\"line\": {\"color\": \"#E5ECF6\", \"width\": 0.5}}, \"type\": \"barpolar\"}], \"carpet\": [{\"aaxis\": {\"endlinecolor\": \"#2a3f5f\", \"gridcolor\": \"white\", \"linecolor\": \"white\", \"minorgridcolor\": \"white\", \"startlinecolor\": \"#2a3f5f\"}, \"baxis\": {\"endlinecolor\": \"#2a3f5f\", \"gridcolor\": \"white\", \"linecolor\": \"white\", \"minorgridcolor\": \"white\", \"startlinecolor\": \"#2a3f5f\"}, \"type\": \"carpet\"}], \"choropleth\": [{\"colorbar\": {\"outlinewidth\": 0, \"ticks\": \"\"}, \"type\": \"choropleth\"}], \"contour\": [{\"colorbar\": {\"outlinewidth\": 0, \"ticks\": \"\"}, \"colorscale\": [[0.0, \"#0d0887\"], [0.1111111111111111, \"#46039f\"], [0.2222222222222222, \"#7201a8\"], [0.3333333333333333, \"#9c179e\"], [0.4444444444444444, \"#bd3786\"], [0.5555555555555556, \"#d8576b\"], [0.6666666666666666, \"#ed7953\"], [0.7777777777777778, \"#fb9f3a\"], [0.8888888888888888, \"#fdca26\"], [1.0, \"#f0f921\"]], \"type\": \"contour\"}], \"contourcarpet\": [{\"colorbar\": {\"outlinewidth\": 0, \"ticks\": \"\"}, \"type\": \"contourcarpet\"}], \"heatmap\": [{\"colorbar\": {\"outlinewidth\": 0, \"ticks\": \"\"}, \"colorscale\": [[0.0, \"#0d0887\"], [0.1111111111111111, \"#46039f\"], [0.2222222222222222, \"#7201a8\"], [0.3333333333333333, \"#9c179e\"], [0.4444444444444444, \"#bd3786\"], [0.5555555555555556, \"#d8576b\"], [0.6666666666666666, \"#ed7953\"], [0.7777777777777778, \"#fb9f3a\"], [0.8888888888888888, \"#fdca26\"], [1.0, \"#f0f921\"]], \"type\": \"heatmap\"}], \"heatmapgl\": [{\"colorbar\": {\"outlinewidth\": 0, \"ticks\": \"\"}, \"colorscale\": [[0.0, \"#0d0887\"], [0.1111111111111111, \"#46039f\"], [0.2222222222222222, \"#7201a8\"], [0.3333333333333333, \"#9c179e\"], [0.4444444444444444, \"#bd3786\"], [0.5555555555555556, \"#d8576b\"], [0.6666666666666666, \"#ed7953\"], [0.7777777777777778, \"#fb9f3a\"], [0.8888888888888888, \"#fdca26\"], [1.0, \"#f0f921\"]], \"type\": \"heatmapgl\"}], \"histogram\": [{\"marker\": {\"colorbar\": {\"outlinewidth\": 0, \"ticks\": \"\"}}, \"type\": \"histogram\"}], \"histogram2d\": [{\"colorbar\": {\"outlinewidth\": 0, \"ticks\": \"\"}, \"colorscale\": [[0.0, \"#0d0887\"], [0.1111111111111111, \"#46039f\"], [0.2222222222222222, \"#7201a8\"], [0.3333333333333333, \"#9c179e\"], [0.4444444444444444, \"#bd3786\"], [0.5555555555555556, \"#d8576b\"], [0.6666666666666666, \"#ed7953\"], [0.7777777777777778, \"#fb9f3a\"], [0.8888888888888888, \"#fdca26\"], [1.0, \"#f0f921\"]], \"type\": \"histogram2d\"}], \"histogram2dcontour\": [{\"colorbar\": {\"outlinewidth\": 0, \"ticks\": \"\"}, \"colorscale\": [[0.0, \"#0d0887\"], [0.1111111111111111, \"#46039f\"], [0.2222222222222222, \"#7201a8\"], [0.3333333333333333, \"#9c179e\"], [0.4444444444444444, \"#bd3786\"], [0.5555555555555556, \"#d8576b\"], [0.6666666666666666, \"#ed7953\"], [0.7777777777777778, \"#fb9f3a\"], [0.8888888888888888, \"#fdca26\"], [1.0, \"#f0f921\"]], \"type\": \"histogram2dcontour\"}], \"mesh3d\": [{\"colorbar\": {\"outlinewidth\": 0, \"ticks\": \"\"}, \"type\": \"mesh3d\"}], \"parcoords\": [{\"line\": {\"colorbar\": {\"outlinewidth\": 0, \"ticks\": \"\"}}, \"type\": \"parcoords\"}], \"pie\": [{\"automargin\": true, \"type\": \"pie\"}], \"scatter\": [{\"marker\": {\"colorbar\": {\"outlinewidth\": 0, \"ticks\": \"\"}}, \"type\": \"scatter\"}], \"scatter3d\": [{\"line\": {\"colorbar\": {\"outlinewidth\": 0, \"ticks\": \"\"}}, \"marker\": {\"colorbar\": {\"outlinewidth\": 0, \"ticks\": \"\"}}, \"type\": \"scatter3d\"}], \"scattercarpet\": [{\"marker\": {\"colorbar\": {\"outlinewidth\": 0, \"ticks\": \"\"}}, \"type\": \"scattercarpet\"}], \"scattergeo\": [{\"marker\": {\"colorbar\": {\"outlinewidth\": 0, \"ticks\": \"\"}}, \"type\": \"scattergeo\"}], \"scattergl\": [{\"marker\": {\"colorbar\": {\"outlinewidth\": 0, \"ticks\": \"\"}}, \"type\": \"scattergl\"}], \"scattermapbox\": [{\"marker\": {\"colorbar\": {\"outlinewidth\": 0, \"ticks\": \"\"}}, \"type\": \"scattermapbox\"}], \"scatterpolar\": [{\"marker\": {\"colorbar\": {\"outlinewidth\": 0, \"ticks\": \"\"}}, \"type\": \"scatterpolar\"}], \"scatterpolargl\": [{\"marker\": {\"colorbar\": {\"outlinewidth\": 0, \"ticks\": \"\"}}, \"type\": \"scatterpolargl\"}], \"scatterternary\": [{\"marker\": {\"colorbar\": {\"outlinewidth\": 0, \"ticks\": \"\"}}, \"type\": \"scatterternary\"}], \"surface\": [{\"colorbar\": {\"outlinewidth\": 0, \"ticks\": \"\"}, \"colorscale\": [[0.0, \"#0d0887\"], [0.1111111111111111, \"#46039f\"], [0.2222222222222222, \"#7201a8\"], [0.3333333333333333, \"#9c179e\"], [0.4444444444444444, \"#bd3786\"], [0.5555555555555556, \"#d8576b\"], [0.6666666666666666, \"#ed7953\"], [0.7777777777777778, \"#fb9f3a\"], [0.8888888888888888, \"#fdca26\"], [1.0, \"#f0f921\"]], \"type\": \"surface\"}], \"table\": [{\"cells\": {\"fill\": {\"color\": \"#EBF0F8\"}, \"line\": {\"color\": \"white\"}}, \"header\": {\"fill\": {\"color\": \"#C8D4E3\"}, \"line\": {\"color\": \"white\"}}, \"type\": \"table\"}]}, \"layout\": {\"annotationdefaults\": {\"arrowcolor\": \"#2a3f5f\", \"arrowhead\": 0, \"arrowwidth\": 1}, \"coloraxis\": {\"colorbar\": {\"outlinewidth\": 0, \"ticks\": \"\"}}, \"colorscale\": {\"diverging\": [[0, \"#8e0152\"], [0.1, \"#c51b7d\"], [0.2, \"#de77ae\"], [0.3, \"#f1b6da\"], [0.4, \"#fde0ef\"], [0.5, \"#f7f7f7\"], [0.6, \"#e6f5d0\"], [0.7, \"#b8e186\"], [0.8, \"#7fbc41\"], [0.9, \"#4d9221\"], [1, \"#276419\"]], \"sequential\": [[0.0, \"#0d0887\"], [0.1111111111111111, \"#46039f\"], [0.2222222222222222, \"#7201a8\"], [0.3333333333333333, \"#9c179e\"], [0.4444444444444444, \"#bd3786\"], [0.5555555555555556, \"#d8576b\"], [0.6666666666666666, \"#ed7953\"], [0.7777777777777778, \"#fb9f3a\"], [0.8888888888888888, \"#fdca26\"], [1.0, \"#f0f921\"]], \"sequentialminus\": [[0.0, \"#0d0887\"], [0.1111111111111111, \"#46039f\"], [0.2222222222222222, \"#7201a8\"], [0.3333333333333333, \"#9c179e\"], [0.4444444444444444, \"#bd3786\"], [0.5555555555555556, \"#d8576b\"], [0.6666666666666666, \"#ed7953\"], [0.7777777777777778, \"#fb9f3a\"], [0.8888888888888888, \"#fdca26\"], [1.0, \"#f0f921\"]]}, \"colorway\": [\"#636efa\", \"#EF553B\", \"#00cc96\", \"#ab63fa\", \"#FFA15A\", \"#19d3f3\", \"#FF6692\", \"#B6E880\", \"#FF97FF\", \"#FECB52\"], \"font\": {\"color\": \"#2a3f5f\"}, \"geo\": {\"bgcolor\": \"white\", \"lakecolor\": \"white\", \"landcolor\": \"#E5ECF6\", \"showlakes\": true, \"showland\": true, \"subunitcolor\": \"white\"}, \"hoverlabel\": {\"align\": \"left\"}, \"hovermode\": \"closest\", \"mapbox\": {\"style\": \"light\"}, \"paper_bgcolor\": \"white\", \"plot_bgcolor\": \"#E5ECF6\", \"polar\": {\"angularaxis\": {\"gridcolor\": \"white\", \"linecolor\": \"white\", \"ticks\": \"\"}, \"bgcolor\": \"#E5ECF6\", \"radialaxis\": {\"gridcolor\": \"white\", \"linecolor\": \"white\", \"ticks\": \"\"}}, \"scene\": {\"xaxis\": {\"backgroundcolor\": \"#E5ECF6\", \"gridcolor\": \"white\", \"gridwidth\": 2, \"linecolor\": \"white\", \"showbackground\": true, \"ticks\": \"\", \"zerolinecolor\": \"white\"}, \"yaxis\": {\"backgroundcolor\": \"#E5ECF6\", \"gridcolor\": \"white\", \"gridwidth\": 2, \"linecolor\": \"white\", \"showbackground\": true, \"ticks\": \"\", \"zerolinecolor\": \"white\"}, \"zaxis\": {\"backgroundcolor\": \"#E5ECF6\", \"gridcolor\": \"white\", \"gridwidth\": 2, \"linecolor\": \"white\", \"showbackground\": true, \"ticks\": \"\", \"zerolinecolor\": \"white\"}}, \"shapedefaults\": {\"line\": {\"color\": \"#2a3f5f\"}}, \"ternary\": {\"aaxis\": {\"gridcolor\": \"white\", \"linecolor\": \"white\", \"ticks\": \"\"}, \"baxis\": {\"gridcolor\": \"white\", \"linecolor\": \"white\", \"ticks\": \"\"}, \"bgcolor\": \"#E5ECF6\", \"caxis\": {\"gridcolor\": \"white\", \"linecolor\": \"white\", \"ticks\": \"\"}}, \"title\": {\"x\": 0.05}, \"xaxis\": {\"automargin\": true, \"gridcolor\": \"white\", \"linecolor\": \"white\", \"ticks\": \"\", \"title\": {\"standoff\": 15}, \"zerolinecolor\": \"white\", \"zerolinewidth\": 2}, \"yaxis\": {\"automargin\": true, \"gridcolor\": \"white\", \"linecolor\": \"white\", \"ticks\": \"\", \"title\": {\"standoff\": 15}, \"zerolinecolor\": \"white\", \"zerolinewidth\": 2}}}},                        {\"responsive\": true}                    ).then(function(){\n",
       "                            \n",
       "var gd = document.getElementById('145bcab5-3306-40d1-a81a-522de0e79c68');\n",
       "var x = new MutationObserver(function (mutations, observer) {{\n",
       "        var display = window.getComputedStyle(gd).display;\n",
       "        if (!display || display === 'none') {{\n",
       "            console.log([gd, 'removed!']);\n",
       "            Plotly.purge(gd);\n",
       "            observer.disconnect();\n",
       "        }}\n",
       "}});\n",
       "\n",
       "// Listen for the removal of the full notebook cells\n",
       "var notebookContainer = gd.closest('#notebook-container');\n",
       "if (notebookContainer) {{\n",
       "    x.observe(notebookContainer, {childList: true});\n",
       "}}\n",
       "\n",
       "// Listen for the clearing of the current output cell\n",
       "var outputEl = gd.closest('.output');\n",
       "if (outputEl) {{\n",
       "    x.observe(outputEl, {childList: true});\n",
       "}}\n",
       "\n",
       "                        })                };                });            </script>        </div>"
      ]
     },
     "metadata": {},
     "output_type": "display_data"
    }
   ],
   "source": [
    "import plotly.express as px\n",
    "kmeans = KMeans(init=\"k-means++\",\n",
    "                n_clusters=9,\n",
    "                random_state=15,\n",
    "                max_iter = 500).fit(x_scaled2)\n",
    "df1['kmeans'] = kmeans.labels_\n",
    "df1.columns = ['energy', 'valence','kmeans' ]\n",
    "\n",
    "\n",
    "kmeans = df1['kmeans']\n",
    "df['kmeans'] = kmeans\n",
    "\n",
    "fig = px.scatter_3d(df, x='energy', y='speechiness', z='valence',\n",
    "              color='kmeans')\n",
    "fig.show()"
   ]
  },
  {
   "cell_type": "code",
   "execution_count": 51,
   "metadata": {},
   "outputs": [
    {
     "data": {
      "text/html": [
       "<div>\n",
       "<style scoped>\n",
       "    .dataframe tbody tr th:only-of-type {\n",
       "        vertical-align: middle;\n",
       "    }\n",
       "\n",
       "    .dataframe tbody tr th {\n",
       "        vertical-align: top;\n",
       "    }\n",
       "\n",
       "    .dataframe thead th {\n",
       "        text-align: right;\n",
       "    }\n",
       "</style>\n",
       "<table border=\"1\" class=\"dataframe\">\n",
       "  <thead>\n",
       "    <tr style=\"text-align: right;\">\n",
       "      <th></th>\n",
       "      <th>liveness</th>\n",
       "      <th>speechiness</th>\n",
       "      <th>kmeans</th>\n",
       "    </tr>\n",
       "  </thead>\n",
       "  <tbody>\n",
       "    <tr>\n",
       "      <th>0</th>\n",
       "      <td>0.004561</td>\n",
       "      <td>0.275442</td>\n",
       "      <td>3</td>\n",
       "    </tr>\n",
       "    <tr>\n",
       "      <th>1</th>\n",
       "      <td>0.221270</td>\n",
       "      <td>0.005715</td>\n",
       "      <td>8</td>\n",
       "    </tr>\n",
       "    <tr>\n",
       "      <th>2</th>\n",
       "      <td>0.105573</td>\n",
       "      <td>0.108591</td>\n",
       "      <td>2</td>\n",
       "    </tr>\n",
       "    <tr>\n",
       "      <th>3</th>\n",
       "      <td>0.053844</td>\n",
       "      <td>0.009218</td>\n",
       "      <td>0</td>\n",
       "    </tr>\n",
       "    <tr>\n",
       "      <th>4</th>\n",
       "      <td>0.074424</td>\n",
       "      <td>0.127028</td>\n",
       "      <td>2</td>\n",
       "    </tr>\n",
       "    <tr>\n",
       "      <th>...</th>\n",
       "      <td>...</td>\n",
       "      <td>...</td>\n",
       "      <td>...</td>\n",
       "    </tr>\n",
       "    <tr>\n",
       "      <th>195</th>\n",
       "      <td>0.084437</td>\n",
       "      <td>0.031158</td>\n",
       "      <td>0</td>\n",
       "    </tr>\n",
       "    <tr>\n",
       "      <th>196</th>\n",
       "      <td>0.053065</td>\n",
       "      <td>0.060103</td>\n",
       "      <td>0</td>\n",
       "    </tr>\n",
       "    <tr>\n",
       "      <th>197</th>\n",
       "      <td>0.019357</td>\n",
       "      <td>0.013274</td>\n",
       "      <td>0</td>\n",
       "    </tr>\n",
       "    <tr>\n",
       "      <th>198</th>\n",
       "      <td>0.302481</td>\n",
       "      <td>0.089417</td>\n",
       "      <td>8</td>\n",
       "    </tr>\n",
       "    <tr>\n",
       "      <th>199</th>\n",
       "      <td>0.010012</td>\n",
       "      <td>0.207227</td>\n",
       "      <td>2</td>\n",
       "    </tr>\n",
       "  </tbody>\n",
       "</table>\n",
       "<p>200 rows × 3 columns</p>\n",
       "</div>"
      ],
      "text/plain": [
       "     liveness  speechiness  kmeans\n",
       "0    0.004561     0.275442       3\n",
       "1    0.221270     0.005715       8\n",
       "2    0.105573     0.108591       2\n",
       "3    0.053844     0.009218       0\n",
       "4    0.074424     0.127028       2\n",
       "..        ...          ...     ...\n",
       "195  0.084437     0.031158       0\n",
       "196  0.053065     0.060103       0\n",
       "197  0.019357     0.013274       0\n",
       "198  0.302481     0.089417       8\n",
       "199  0.010012     0.207227       2\n",
       "\n",
       "[200 rows x 3 columns]"
      ]
     },
     "execution_count": 51,
     "metadata": {},
     "output_type": "execute_result"
    }
   ],
   "source": [
    "df1"
   ]
  },
  {
   "cell_type": "code",
   "execution_count": 52,
   "metadata": {},
   "outputs": [],
   "source": [
    "c0 = df[df1['kmeans']==0]\n",
    "c1 = df[df1['kmeans']==1]\n",
    "c2 = df[df1['kmeans']==2]\n",
    "c3 = df[df1['kmeans']==3]\n",
    "# c4 = df[df1['kmeans']==4]\n",
    "# c5 = df[df1['kmeans']==5]\n",
    "# c6 = df[df1['kmeans']==6]\n",
    "# c7 = df[df1['kmeans']==7]\n",
    "# c8 = df[df1['kmeans']==8]\n",
    "\n",
    "clusters = []\n",
    "clusters.append(c0)\n",
    "clusters.append(c1)\n",
    "clusters.append(c2)\n",
    "clusters.append(c3)\n",
    "# clusters.append(c4)\n",
    "# clusters.append(c5)\n",
    "# clusters.append(c6)\n",
    "# clusters.append(c7)\n",
    "# clusters.append(c8)"
   ]
  },
  {
   "cell_type": "code",
   "execution_count": 53,
   "metadata": {},
   "outputs": [],
   "source": [
    "def getAvgValue(value, parameter):\n",
    "    category = ''\n",
    "    if (value < 0.25):\n",
    "        category = 'Low'\n",
    "    elif (value > 0.75):\n",
    "        category = 'High'\n",
    "    else :\n",
    "        if (value > 0.51):\n",
    "            category = 'Medium High'\n",
    "        elif (value < 0.49) :\n",
    "            category = 'Medium Low'\n",
    "        else :\n",
    "            category = 'Medium'\n",
    "    return category + ' ' + parameter"
   ]
  },
  {
   "cell_type": "code",
   "execution_count": 54,
   "metadata": {},
   "outputs": [],
   "source": [
    "def clusterAvgData(cluster, kmeans):\n",
    "    column_names = [\"energy_level\", \"valence_level\",\"avg_energy\", \"avg_valence\"]\n",
    "    clusterData = pd.DataFrame(columns=column_names)\n",
    "    avg_energy = cluster.energy.mean()\n",
    "    avg_valence = cluster.valence.mean()\n",
    "    dict = {\n",
    "        \"energy_level\": getAvgValue(avg_energy, 'Energy'),\n",
    "        \"valence_level\": getAvgValue(avg_valence, 'Valence'),\n",
    "        \"avg_energy\": avg_energy,\n",
    "        \"avg_valence\": avg_valence,        \n",
    "    }\n",
    "    clusterData = clusterData.append(dict, ignore_index=True)\n",
    "    return clusterData"
   ]
  },
  {
   "cell_type": "code",
   "execution_count": 55,
   "metadata": {},
   "outputs": [],
   "source": [
    "column_names = [\"energy_level\", \"valence_level\",\"avg_energy\", \"avg_valence\"]\n",
    "clusterData = pd.DataFrame(columns = column_names)\n",
    "i = 0\n",
    "for cluster in clusters:\n",
    "    data = clusterAvgData(cluster, i)\n",
    "    clusterData = clusterData.append(data, ignore_index=True)\n",
    "    i = i + 1"
   ]
  },
  {
   "cell_type": "code",
   "execution_count": 56,
   "metadata": {},
   "outputs": [
    {
     "data": {
      "text/html": [
       "<div>\n",
       "<style scoped>\n",
       "    .dataframe tbody tr th:only-of-type {\n",
       "        vertical-align: middle;\n",
       "    }\n",
       "\n",
       "    .dataframe tbody tr th {\n",
       "        vertical-align: top;\n",
       "    }\n",
       "\n",
       "    .dataframe thead th {\n",
       "        text-align: right;\n",
       "    }\n",
       "</style>\n",
       "<table border=\"1\" class=\"dataframe\">\n",
       "  <thead>\n",
       "    <tr style=\"text-align: right;\">\n",
       "      <th></th>\n",
       "      <th>energy_level</th>\n",
       "      <th>valence_level</th>\n",
       "      <th>avg_energy</th>\n",
       "      <th>avg_valence</th>\n",
       "    </tr>\n",
       "  </thead>\n",
       "  <tbody>\n",
       "    <tr>\n",
       "      <th>1</th>\n",
       "      <td>High Energy</td>\n",
       "      <td>Medium High Valence</td>\n",
       "      <td>0.782556</td>\n",
       "      <td>0.578000</td>\n",
       "    </tr>\n",
       "    <tr>\n",
       "      <th>3</th>\n",
       "      <td>Medium High Energy</td>\n",
       "      <td>Medium High Valence</td>\n",
       "      <td>0.723833</td>\n",
       "      <td>0.510833</td>\n",
       "    </tr>\n",
       "    <tr>\n",
       "      <th>2</th>\n",
       "      <td>Medium High Energy</td>\n",
       "      <td>Medium High Valence</td>\n",
       "      <td>0.707269</td>\n",
       "      <td>0.535423</td>\n",
       "    </tr>\n",
       "    <tr>\n",
       "      <th>0</th>\n",
       "      <td>Medium High Energy</td>\n",
       "      <td>Medium Low Valence</td>\n",
       "      <td>0.661411</td>\n",
       "      <td>0.427674</td>\n",
       "    </tr>\n",
       "  </tbody>\n",
       "</table>\n",
       "</div>"
      ],
      "text/plain": [
       "         energy_level        valence_level  avg_energy  avg_valence\n",
       "1         High Energy  Medium High Valence    0.782556     0.578000\n",
       "3  Medium High Energy  Medium High Valence    0.723833     0.510833\n",
       "2  Medium High Energy  Medium High Valence    0.707269     0.535423\n",
       "0  Medium High Energy   Medium Low Valence    0.661411     0.427674"
      ]
     },
     "execution_count": 56,
     "metadata": {},
     "output_type": "execute_result"
    }
   ],
   "source": [
    "clusterData.sort_values(by='avg_energy', ascending=False)"
   ]
  },
  {
   "cell_type": "code",
   "execution_count": 19,
   "metadata": {},
   "outputs": [],
   "source": [
    "clusterData.to_csv('data/clusters.csv', index=False)"
   ]
  },
  {
   "cell_type": "code",
   "execution_count": null,
   "metadata": {},
   "outputs": [],
   "source": []
  }
 ],
 "metadata": {
  "kernelspec": {
   "display_name": "Python 3",
   "language": "python",
   "name": "python3"
  },
  "language_info": {
   "codemirror_mode": {
    "name": "ipython",
    "version": 3
   },
   "file_extension": ".py",
   "mimetype": "text/x-python",
   "name": "python",
   "nbconvert_exporter": "python",
   "pygments_lexer": "ipython3",
   "version": "3.8.3"
  }
 },
 "nbformat": 4,
 "nbformat_minor": 4
}
